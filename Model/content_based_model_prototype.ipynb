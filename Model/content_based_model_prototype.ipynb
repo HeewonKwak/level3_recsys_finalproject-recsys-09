{
 "cells": [
  {
   "cell_type": "code",
   "execution_count": 1,
   "metadata": {},
   "outputs": [],
   "source": [
    "from dotenv import load_dotenv\n",
    "from sqlalchemy import create_engine\n",
    "import os\n",
    "import pandas as pd\n",
    "\n",
    "load_dotenv()\n",
    "engine = create_engine(f\"postgresql://{os.environ['DB_USERNAME']}:{os.environ['DB_PASSWORD']}@{os.environ['DB_HOST']}:{os.environ['DB_PORT']}/{os.environ['DB_DATABASE']}\")"
   ]
  },
  {
   "cell_type": "code",
   "execution_count": 3,
   "metadata": {},
   "outputs": [],
   "source": [
    "game_table = \"game\"\n",
    "df = pd.read_sql_table(table_name=game_table, con=engine)"
   ]
  },
  {
   "cell_type": "code",
   "execution_count": 4,
   "metadata": {},
   "outputs": [
    {
     "data": {
      "text/html": [
       "<div>\n",
       "<style scoped>\n",
       "    .dataframe tbody tr th:only-of-type {\n",
       "        vertical-align: middle;\n",
       "    }\n",
       "\n",
       "    .dataframe tbody tr th {\n",
       "        vertical-align: top;\n",
       "    }\n",
       "\n",
       "    .dataframe thead th {\n",
       "        text-align: right;\n",
       "    }\n",
       "</style>\n",
       "<table border=\"1\" class=\"dataframe\">\n",
       "  <thead>\n",
       "    <tr style=\"text-align: right;\">\n",
       "      <th></th>\n",
       "      <th>id</th>\n",
       "      <th>name</th>\n",
       "      <th>platform</th>\n",
       "      <th>rating</th>\n",
       "      <th>genre</th>\n",
       "      <th>num_of_player</th>\n",
       "      <th>img_url</th>\n",
       "    </tr>\n",
       "  </thead>\n",
       "  <tbody>\n",
       "    <tr>\n",
       "      <th>0</th>\n",
       "      <td>1</td>\n",
       "      <td>#DRIVE</td>\n",
       "      <td>Switch</td>\n",
       "      <td>all</td>\n",
       "      <td>['Racing', 'Arcade', 'Automobile']</td>\n",
       "      <td>No Online Multiplayer</td>\n",
       "      <td>https://static.metacritic.com/images/products/...</td>\n",
       "    </tr>\n",
       "    <tr>\n",
       "      <th>1</th>\n",
       "      <td>2</td>\n",
       "      <td>#IDARB</td>\n",
       "      <td>Xbox One</td>\n",
       "      <td>all</td>\n",
       "      <td>['Action', 'Miscellaneous', 'General', 'Party ...</td>\n",
       "      <td>At Least 1</td>\n",
       "      <td>https://static.metacritic.com/images/products/...</td>\n",
       "    </tr>\n",
       "    <tr>\n",
       "      <th>2</th>\n",
       "      <td>3</td>\n",
       "      <td>#KILLALLZOMBIES</td>\n",
       "      <td>Xbox One</td>\n",
       "      <td>13+</td>\n",
       "      <td>['Action', 'Shooter', \"Shoot-'Em-Up\", 'Top-Down']</td>\n",
       "      <td>No Online Multiplayer</td>\n",
       "      <td>https://static.metacritic.com/images/products/...</td>\n",
       "    </tr>\n",
       "    <tr>\n",
       "      <th>3</th>\n",
       "      <td>4</td>\n",
       "      <td>'Splosion Man</td>\n",
       "      <td>Xbox 360</td>\n",
       "      <td>10+</td>\n",
       "      <td>['Action', 'General', 'Platformer', 'Platforme...</td>\n",
       "      <td>4  Online</td>\n",
       "      <td>https://static.metacritic.com/images/products/...</td>\n",
       "    </tr>\n",
       "    <tr>\n",
       "      <th>4</th>\n",
       "      <td>5</td>\n",
       "      <td>.detuned</td>\n",
       "      <td>PlayStation 3</td>\n",
       "      <td>all</td>\n",
       "      <td>['Action', 'Miscellaneous', 'Rhythm', 'Music',...</td>\n",
       "      <td>1 Player</td>\n",
       "      <td>https://static.metacritic.com/images/products/...</td>\n",
       "    </tr>\n",
       "  </tbody>\n",
       "</table>\n",
       "</div>"
      ],
      "text/plain": [
       "   id             name       platform rating  \\\n",
       "0   1           #DRIVE         Switch    all   \n",
       "1   2           #IDARB       Xbox One    all   \n",
       "2   3  #KILLALLZOMBIES       Xbox One    13+   \n",
       "3   4    'Splosion Man       Xbox 360    10+   \n",
       "4   5         .detuned  PlayStation 3    all   \n",
       "\n",
       "                                               genre          num_of_player  \\\n",
       "0                 ['Racing', 'Arcade', 'Automobile']  No Online Multiplayer   \n",
       "1  ['Action', 'Miscellaneous', 'General', 'Party ...             At Least 1   \n",
       "2  ['Action', 'Shooter', \"Shoot-'Em-Up\", 'Top-Down']  No Online Multiplayer   \n",
       "3  ['Action', 'General', 'Platformer', 'Platforme...              4  Online   \n",
       "4  ['Action', 'Miscellaneous', 'Rhythm', 'Music',...               1 Player   \n",
       "\n",
       "                                             img_url  \n",
       "0  https://static.metacritic.com/images/products/...  \n",
       "1  https://static.metacritic.com/images/products/...  \n",
       "2  https://static.metacritic.com/images/products/...  \n",
       "3  https://static.metacritic.com/images/products/...  \n",
       "4  https://static.metacritic.com/images/products/...  "
      ]
     },
     "execution_count": 4,
     "metadata": {},
     "output_type": "execute_result"
    }
   ],
   "source": [
    "df.head()"
   ]
  },
  {
   "cell_type": "code",
   "execution_count": 5,
   "metadata": {},
   "outputs": [],
   "source": [
    "k = []\n",
    "for i in df['genre']:\n",
    "    k.append(i[1:-1])\n",
    "df['genre'] = k"
   ]
  },
  {
   "cell_type": "code",
   "execution_count": 6,
   "metadata": {},
   "outputs": [
    {
     "data": {
      "text/plain": [
       "id               0\n",
       "name             0\n",
       "platform         0\n",
       "rating           0\n",
       "genre            0\n",
       "num_of_player    0\n",
       "img_url          0\n",
       "dtype: int64"
      ]
     },
     "execution_count": 6,
     "metadata": {},
     "output_type": "execute_result"
    }
   ],
   "source": [
    "df.isna().sum()"
   ]
  },
  {
   "cell_type": "code",
   "execution_count": 7,
   "metadata": {},
   "outputs": [],
   "source": [
    "from sklearn.feature_extraction.text import TfidfVectorizer\n",
    "from sklearn.metrics.pairwise import cosine_similarity"
   ]
  },
  {
   "cell_type": "code",
   "execution_count": 8,
   "metadata": {},
   "outputs": [],
   "source": [
    "################## 유저가 플레이한 게임 데이터 입력 받기 (예시) #################\n",
    "user_games_names = ['playerunknowns-battlegrounds', 'FIFA 20']\n",
    "#user_games_names = ['Dwarf Fortress']\n",
    "\n",
    "# 문자열 배열의 요소를 소문자로 변환하고 공백을 '-'로 대체\n",
    "user_games_names_modified = [name.lower().replace(' ', '-') for name in user_games_names]"
   ]
  },
  {
   "cell_type": "code",
   "execution_count": 9,
   "metadata": {},
   "outputs": [
    {
     "data": {
      "text/plain": [
       "['playerunknowns-battlegrounds', 'fifa-20']"
      ]
     },
     "execution_count": 9,
     "metadata": {},
     "output_type": "execute_result"
    }
   ],
   "source": [
    "user_games_names_modified         "
   ]
  },
  {
   "cell_type": "code",
   "execution_count": 10,
   "metadata": {},
   "outputs": [],
   "source": [
    "from MetaCriticScraper import MetaCriticScraper\n",
    "\n",
    "# 빈 데이터 프레임 생성\n",
    "user_games = pd.DataFrame(columns=['name', 'genre'])\n",
    "\n",
    "gnere_list = ['pc', 'playStation-4','playStation-5', 'switch', 'xbox-one', 'xbox-series-x'] \n",
    "for j in user_games_names_modified:\n",
    "    for i in gnere_list:\n",
    "        url = 'https://www.metacritic.com/game/'+ i + '/' + j\n",
    "        scraper = MetaCriticScraper(url)\n",
    "        # 데이터 프레임에 행 추가\n",
    "        user_games = pd.concat([user_games, pd.DataFrame({'name': scraper.game['title'], 'genre': [','.join(scraper.game['genre'])]}, index=[0])], ignore_index=True)\n",
    "        if scraper.game['url']:\n",
    "            break"
   ]
  },
  {
   "cell_type": "code",
   "execution_count": 11,
   "metadata": {},
   "outputs": [
    {
     "data": {
      "text/html": [
       "<div>\n",
       "<style scoped>\n",
       "    .dataframe tbody tr th:only-of-type {\n",
       "        vertical-align: middle;\n",
       "    }\n",
       "\n",
       "    .dataframe tbody tr th {\n",
       "        vertical-align: top;\n",
       "    }\n",
       "\n",
       "    .dataframe thead th {\n",
       "        text-align: right;\n",
       "    }\n",
       "</style>\n",
       "<table border=\"1\" class=\"dataframe\">\n",
       "  <thead>\n",
       "    <tr style=\"text-align: right;\">\n",
       "      <th></th>\n",
       "      <th>name</th>\n",
       "      <th>genre</th>\n",
       "    </tr>\n",
       "  </thead>\n",
       "  <tbody>\n",
       "    <tr>\n",
       "      <th>0</th>\n",
       "      <td>PlayerUnknown's Battlegrounds</td>\n",
       "      <td>Action,Shooter,First-Person,Tactical</td>\n",
       "    </tr>\n",
       "    <tr>\n",
       "      <th>1</th>\n",
       "      <td>FIFA 20</td>\n",
       "      <td>Sports,Team,Soccer,Sim</td>\n",
       "    </tr>\n",
       "  </tbody>\n",
       "</table>\n",
       "</div>"
      ],
      "text/plain": [
       "                            name                                 genre\n",
       "0  PlayerUnknown's Battlegrounds  Action,Shooter,First-Person,Tactical\n",
       "1                        FIFA 20                Sports,Team,Soccer,Sim"
      ]
     },
     "execution_count": 11,
     "metadata": {},
     "output_type": "execute_result"
    }
   ],
   "source": [
    "user_games"
   ]
  },
  {
   "cell_type": "code",
   "execution_count": 12,
   "metadata": {},
   "outputs": [],
   "source": [
    "db_df = df[['name', 'genre']]"
   ]
  },
  {
   "cell_type": "code",
   "execution_count": 13,
   "metadata": {},
   "outputs": [
    {
     "data": {
      "text/html": [
       "<div>\n",
       "<style scoped>\n",
       "    .dataframe tbody tr th:only-of-type {\n",
       "        vertical-align: middle;\n",
       "    }\n",
       "\n",
       "    .dataframe tbody tr th {\n",
       "        vertical-align: top;\n",
       "    }\n",
       "\n",
       "    .dataframe thead th {\n",
       "        text-align: right;\n",
       "    }\n",
       "</style>\n",
       "<table border=\"1\" class=\"dataframe\">\n",
       "  <thead>\n",
       "    <tr style=\"text-align: right;\">\n",
       "      <th></th>\n",
       "      <th>name</th>\n",
       "      <th>genre</th>\n",
       "    </tr>\n",
       "  </thead>\n",
       "  <tbody>\n",
       "    <tr>\n",
       "      <th>0</th>\n",
       "      <td>#DRIVE</td>\n",
       "      <td>'Racing', 'Arcade', 'Automobile'</td>\n",
       "    </tr>\n",
       "    <tr>\n",
       "      <th>1</th>\n",
       "      <td>#IDARB</td>\n",
       "      <td>'Action', 'Miscellaneous', 'General', 'Party /...</td>\n",
       "    </tr>\n",
       "    <tr>\n",
       "      <th>2</th>\n",
       "      <td>#KILLALLZOMBIES</td>\n",
       "      <td>'Action', 'Shooter', \"Shoot-'Em-Up\", 'Top-Down'</td>\n",
       "    </tr>\n",
       "    <tr>\n",
       "      <th>3</th>\n",
       "      <td>'Splosion Man</td>\n",
       "      <td>'Action', 'General', 'Platformer', 'Platformer...</td>\n",
       "    </tr>\n",
       "    <tr>\n",
       "      <th>4</th>\n",
       "      <td>.detuned</td>\n",
       "      <td>'Action', 'Miscellaneous', 'Rhythm', 'Music', ...</td>\n",
       "    </tr>\n",
       "  </tbody>\n",
       "</table>\n",
       "</div>"
      ],
      "text/plain": [
       "              name                                              genre\n",
       "0           #DRIVE                   'Racing', 'Arcade', 'Automobile'\n",
       "1           #IDARB  'Action', 'Miscellaneous', 'General', 'Party /...\n",
       "2  #KILLALLZOMBIES    'Action', 'Shooter', \"Shoot-'Em-Up\", 'Top-Down'\n",
       "3    'Splosion Man  'Action', 'General', 'Platformer', 'Platformer...\n",
       "4         .detuned  'Action', 'Miscellaneous', 'Rhythm', 'Music', ..."
      ]
     },
     "execution_count": 13,
     "metadata": {},
     "output_type": "execute_result"
    }
   ],
   "source": [
    "db_df.head()"
   ]
  },
  {
   "cell_type": "code",
   "execution_count": 14,
   "metadata": {},
   "outputs": [
    {
     "name": "stdout",
     "output_type": "stream",
     "text": [
      "\n",
      "추천하는 게임:\n",
      "1. Call of Duty: Infinite Warfare - Sabotage\n",
      "2. Sniper Elite 4\n",
      "3. Day of Infamy\n",
      "4. SUPERHOT VR\n",
      "5. Arktika.1\n"
     ]
    }
   ],
   "source": [
    "from sklearn.feature_extraction.text import TfidfVectorizer\n",
    "from sklearn.metrics.pairwise import cosine_similarity\n",
    "\n",
    "# 기존 게임 데이터프레임과 유저 게임 데이터프레임 통합\n",
    "combined_df = pd.concat([db_df, user_games], ignore_index=True)\n",
    "\n",
    "# TF-IDF 벡터화 객체 생성\n",
    "vectorizer = TfidfVectorizer()\n",
    "\n",
    "# 게임 장르 데이터를 TF-IDF 벡터로 변환\n",
    "genre_vectors = vectorizer.fit_transform(combined_df['genre'])\n",
    "\n",
    "# 추천을 위한 유사도 측정\n",
    "similarities = cosine_similarity(genre_vectors[-2:], genre_vectors[:-2])\n",
    "top_similar_indices = similarities.argsort()[0][::-1][:5] #5개 추천\n",
    "\n",
    "# 추천 게임 목록 생성\n",
    "recommendations = combined_df.loc[top_similar_indices, 'name'].tolist()\n",
    "\n",
    "# 결과 출력\n",
    "print(f\"\\n추천하는 게임:\")\n",
    "for i, game in enumerate(recommendations):\n",
    "    print(f\"{i+1}. {game}\")"
   ]
  },
  {
   "cell_type": "code",
   "execution_count": null,
   "metadata": {},
   "outputs": [],
   "source": []
  }
 ],
 "metadata": {
  "kernelspec": {
   "display_name": "base",
   "language": "python",
   "name": "python3"
  },
  "language_info": {
   "codemirror_mode": {
    "name": "ipython",
    "version": 3
   },
   "file_extension": ".py",
   "mimetype": "text/x-python",
   "name": "python",
   "nbconvert_exporter": "python",
   "pygments_lexer": "ipython3",
   "version": "3.8.5"
  },
  "orig_nbformat": 4
 },
 "nbformat": 4,
 "nbformat_minor": 2
}
