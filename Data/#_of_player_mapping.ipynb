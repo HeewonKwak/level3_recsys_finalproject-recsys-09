{
 "cells": [
  {
   "cell_type": "code",
   "execution_count": 5,
   "metadata": {},
   "outputs": [],
   "source": [
    "import pandas as pd\n",
    "import numpy as np"
   ]
  },
  {
   "cell_type": "code",
   "execution_count": 62,
   "metadata": {},
   "outputs": [],
   "source": [
    "mapping = {\n",
    "    'No Online Multiplayer': 1,\n",
    "    'At Least 1': 5,\n",
    "    '4  Online': 4,\n",
    "    '1 Player': 1,\n",
    "    'Up to 12': 5,\n",
    "    'Up to 32': 5,\n",
    "    '1-4': 4,\n",
    "    '1-8': 5,\n",
    "    '1-2': 2,\n",
    "    '8  Online': 5,\n",
    "    '2  Online': 2,\n",
    "    '1-16': 5,\n",
    "    'Up to 8': 5,\n",
    "    '2': 2,\n",
    "    'Online Multiplayer': 2,\n",
    "    '16  Online': 5,\n",
    "    '6  Online': 5,\n",
    "    'Up to 4': 4,\n",
    "    'Up to 9': 5,\n",
    "    'Massively Multiplayer': 5,\n",
    "    'Up to 6': 5,\n",
    "    'Up to 16': 5,\n",
    "    '1-12': 5,\n",
    "    'Up to 18': 5,\n",
    "    'Up to 3': 4,\n",
    "    'Up to 15': 5,\n",
    "    '1-5': 5,\n",
    "    '1-3': 4,\n",
    "    'Up to 10': 5,\n",
    "    '24  Online': 5,\n",
    "    'Up to 60': 5,\n",
    "    '32  Online': 5,\n",
    "    '12  Online': 5,\n",
    "    'Up to 20': 5,\n",
    "    'Up to 64': 5,\n",
    "    '1-6': 5,\n",
    "    '44  Online': 5,\n",
    "    '64  Online': 5,\n",
    "    '1-32': 5,\n",
    "    '1-64': 5,\n",
    "    'Up to 24': 5,\n",
    "    'Up to more than 64': 5,\n",
    "    'Up to 5': 5,\n",
    "    'Friend System Only': 2,\n",
    "    '1-10': 5,\n",
    "    '3  Online': 4,\n",
    "    'Up to 40': 5,\n",
    "    '10  Online': 5,\n",
    "    '5  Online': 5,\n",
    "    '14  Online': 5,\n",
    "    'Up to 22': 5,\n",
    "    'Up to 30': 5,\n",
    "    '64+': 5,\n",
    "    '64+  Online': 5,\n",
    "    'Up to 14': 5,\n",
    "    'Up to 36': 5\n",
    "}"
   ]
  },
  {
   "cell_type": "code",
   "execution_count": 63,
   "metadata": {},
   "outputs": [],
   "source": [
    "df = pd.read_csv('./preprocess_raw.csv')"
   ]
  },
  {
   "cell_type": "code",
   "execution_count": 64,
   "metadata": {},
   "outputs": [],
   "source": [
    "player = df[['name','_of_player']]"
   ]
  },
  {
   "cell_type": "code",
   "execution_count": 65,
   "metadata": {},
   "outputs": [
    {
     "name": "stderr",
     "output_type": "stream",
     "text": [
      "C:\\Users\\qh123\\AppData\\Local\\Temp\\ipykernel_18680\\3673510741.py:1: SettingWithCopyWarning: \n",
      "A value is trying to be set on a copy of a slice from a DataFrame.\n",
      "Try using .loc[row_indexer,col_indexer] = value instead\n",
      "\n",
      "See the caveats in the documentation: https://pandas.pydata.org/pandas-docs/stable/user_guide/indexing.html#returning-a-view-versus-a-copy\n",
      "  player['num_of_player_idx'] = player['_of_player'].map(mapping)\n"
     ]
    }
   ],
   "source": [
    "player['num_of_player_idx'] = player['_of_player'].map(mapping)"
   ]
  },
  {
   "cell_type": "code",
   "execution_count": 66,
   "metadata": {},
   "outputs": [
    {
     "data": {
      "text/plain": [
       "name                 0\n",
       "_of_player           0\n",
       "num_of_player_idx    0\n",
       "dtype: int64"
      ]
     },
     "execution_count": 66,
     "metadata": {},
     "output_type": "execute_result"
    }
   ],
   "source": [
    "player.isna().sum()"
   ]
  },
  {
   "cell_type": "code",
   "execution_count": 67,
   "metadata": {},
   "outputs": [
    {
     "data": {
      "text/html": [
       "<div>\n",
       "<style scoped>\n",
       "    .dataframe tbody tr th:only-of-type {\n",
       "        vertical-align: middle;\n",
       "    }\n",
       "\n",
       "    .dataframe tbody tr th {\n",
       "        vertical-align: top;\n",
       "    }\n",
       "\n",
       "    .dataframe thead th {\n",
       "        text-align: right;\n",
       "    }\n",
       "</style>\n",
       "<table border=\"1\" class=\"dataframe\">\n",
       "  <thead>\n",
       "    <tr style=\"text-align: right;\">\n",
       "      <th></th>\n",
       "      <th>name</th>\n",
       "      <th>_of_player</th>\n",
       "      <th>num_of_player_idx</th>\n",
       "    </tr>\n",
       "  </thead>\n",
       "  <tbody>\n",
       "    <tr>\n",
       "      <th>0</th>\n",
       "      <td>#DRIVE</td>\n",
       "      <td>No Online Multiplayer</td>\n",
       "      <td>1</td>\n",
       "    </tr>\n",
       "    <tr>\n",
       "      <th>1</th>\n",
       "      <td>#IDARB</td>\n",
       "      <td>At Least 1</td>\n",
       "      <td>5</td>\n",
       "    </tr>\n",
       "    <tr>\n",
       "      <th>2</th>\n",
       "      <td>#KILLALLZOMBIES</td>\n",
       "      <td>No Online Multiplayer</td>\n",
       "      <td>1</td>\n",
       "    </tr>\n",
       "    <tr>\n",
       "      <th>3</th>\n",
       "      <td>'Splosion Man</td>\n",
       "      <td>4  Online</td>\n",
       "      <td>4</td>\n",
       "    </tr>\n",
       "    <tr>\n",
       "      <th>4</th>\n",
       "      <td>.detuned</td>\n",
       "      <td>1 Player</td>\n",
       "      <td>1</td>\n",
       "    </tr>\n",
       "    <tr>\n",
       "      <th>...</th>\n",
       "      <td>...</td>\n",
       "      <td>...</td>\n",
       "      <td>...</td>\n",
       "    </tr>\n",
       "    <tr>\n",
       "      <th>12899</th>\n",
       "      <td>rain</td>\n",
       "      <td>No Online Multiplayer</td>\n",
       "      <td>1</td>\n",
       "    </tr>\n",
       "    <tr>\n",
       "      <th>12900</th>\n",
       "      <td>theHunter: Call of the Wild</td>\n",
       "      <td>At Least 1</td>\n",
       "      <td>5</td>\n",
       "    </tr>\n",
       "    <tr>\n",
       "      <th>12901</th>\n",
       "      <td>uDraw Studio</td>\n",
       "      <td>At Least 1</td>\n",
       "      <td>5</td>\n",
       "    </tr>\n",
       "    <tr>\n",
       "      <th>12902</th>\n",
       "      <td>void tRrLM(); //Void Terrarium</td>\n",
       "      <td>No Online Multiplayer</td>\n",
       "      <td>1</td>\n",
       "    </tr>\n",
       "    <tr>\n",
       "      <th>12903</th>\n",
       "      <td>xXx</td>\n",
       "      <td>1 Player</td>\n",
       "      <td>1</td>\n",
       "    </tr>\n",
       "  </tbody>\n",
       "</table>\n",
       "<p>12904 rows × 3 columns</p>\n",
       "</div>"
      ],
      "text/plain": [
       "                                 name             _of_player  \\\n",
       "0                              #DRIVE  No Online Multiplayer   \n",
       "1                              #IDARB             At Least 1   \n",
       "2                     #KILLALLZOMBIES  No Online Multiplayer   \n",
       "3                       'Splosion Man              4  Online   \n",
       "4                            .detuned               1 Player   \n",
       "...                               ...                    ...   \n",
       "12899                            rain  No Online Multiplayer   \n",
       "12900     theHunter: Call of the Wild             At Least 1   \n",
       "12901                    uDraw Studio             At Least 1   \n",
       "12902  void tRrLM(); //Void Terrarium  No Online Multiplayer   \n",
       "12903                             xXx               1 Player   \n",
       "\n",
       "       num_of_player_idx  \n",
       "0                      1  \n",
       "1                      5  \n",
       "2                      1  \n",
       "3                      4  \n",
       "4                      1  \n",
       "...                  ...  \n",
       "12899                  1  \n",
       "12900                  5  \n",
       "12901                  5  \n",
       "12902                  1  \n",
       "12903                  1  \n",
       "\n",
       "[12904 rows x 3 columns]"
      ]
     },
     "execution_count": 67,
     "metadata": {},
     "output_type": "execute_result"
    }
   ],
   "source": [
    "player"
   ]
  }
 ],
 "metadata": {
  "kernelspec": {
   "display_name": "base",
   "language": "python",
   "name": "python3"
  },
  "language_info": {
   "codemirror_mode": {
    "name": "ipython",
    "version": 3
   },
   "file_extension": ".py",
   "mimetype": "text/x-python",
   "name": "python",
   "nbconvert_exporter": "python",
   "pygments_lexer": "ipython3",
   "version": "3.10.4"
  },
  "orig_nbformat": 4
 },
 "nbformat": 4,
 "nbformat_minor": 2
}
