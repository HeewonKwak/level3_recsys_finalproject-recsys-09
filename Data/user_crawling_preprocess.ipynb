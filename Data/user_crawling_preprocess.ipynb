{
 "cells": [
  {
   "cell_type": "code",
   "execution_count": 13,
   "metadata": {},
   "outputs": [
    {
     "name": "stdout",
     "output_type": "stream",
     "text": [
      "          user_name                                        game\n",
      "0        AngryRoach                 Ultra Kaiju Monster Rancher\n",
      "1        AngryRoach                                   Persona 5\n",
      "2        AngryRoach                              Stardew Valley\n",
      "3        AngryRoach           Hyperdimension Neptunia Re;Birth1\n",
      "4        AngryRoach  The Legend of Heroes: Trails of Cold Steel\n",
      "...             ...                                         ...\n",
      "30857  Stinky_Winky                             Forza Horizon 4\n",
      "30858  Stinky_Winky                   Call of Duty: Black Ops 4\n",
      "30859  Stinky_Winky                   Shadow of the Tomb Raider\n",
      "30860  Stinky_Winky                 Call of Duty: Black Ops III\n",
      "30861  Stinky_Winky                              Need for Speed\n",
      "\n",
      "[30862 rows x 2 columns]\n"
     ]
    }
   ],
   "source": [
    "import pandas as pd\n",
    "import os\n",
    "\n",
    "folder_path = 'data/'  # 데이터가 저장된 폴더 경로\n",
    "\n",
    "# 폴더 내의 모든 파일 목록 가져오기\n",
    "file_list = os.listdir(folder_path)\n",
    "\n",
    "# CSV 파일만 선택\n",
    "csv_files = [file for file in file_list if file.endswith('.csv')]\n",
    "\n",
    "# 빈 데이터프레임 생성\n",
    "combined_df = pd.DataFrame()\n",
    "\n",
    "# CSV 파일 불러와서 데이터프레임 합치기\n",
    "for file in csv_files:\n",
    "    file_path = os.path.join(folder_path, file)\n",
    "    df = pd.read_csv(file_path)\n",
    "    combined_df = pd.concat([combined_df, df], ignore_index=True)\n",
    "\n",
    "# 합쳐진 데이터프레임 출력\n",
    "print(combined_df)\n"
   ]
  },
  {
   "cell_type": "code",
   "execution_count": 14,
   "metadata": {},
   "outputs": [],
   "source": [
    "# 중복 행 제거\n",
    "combined_df = combined_df.drop_duplicates(['user_name', 'game'])\n",
    "\n",
    "# 인덱스 재정렬\n",
    "combined_df = combined_df.reset_index(drop=True)"
   ]
  },
  {
   "cell_type": "code",
   "execution_count": 15,
   "metadata": {},
   "outputs": [
    {
     "data": {
      "text/html": [
       "<div>\n",
       "<style scoped>\n",
       "    .dataframe tbody tr th:only-of-type {\n",
       "        vertical-align: middle;\n",
       "    }\n",
       "\n",
       "    .dataframe tbody tr th {\n",
       "        vertical-align: top;\n",
       "    }\n",
       "\n",
       "    .dataframe thead th {\n",
       "        text-align: right;\n",
       "    }\n",
       "</style>\n",
       "<table border=\"1\" class=\"dataframe\">\n",
       "  <thead>\n",
       "    <tr style=\"text-align: right;\">\n",
       "      <th></th>\n",
       "      <th>user_name</th>\n",
       "      <th>game</th>\n",
       "    </tr>\n",
       "  </thead>\n",
       "  <tbody>\n",
       "    <tr>\n",
       "      <th>0</th>\n",
       "      <td>AngryRoach</td>\n",
       "      <td>Ultra Kaiju Monster Rancher</td>\n",
       "    </tr>\n",
       "    <tr>\n",
       "      <th>1</th>\n",
       "      <td>AngryRoach</td>\n",
       "      <td>Persona 5</td>\n",
       "    </tr>\n",
       "    <tr>\n",
       "      <th>2</th>\n",
       "      <td>AngryRoach</td>\n",
       "      <td>Stardew Valley</td>\n",
       "    </tr>\n",
       "    <tr>\n",
       "      <th>3</th>\n",
       "      <td>AngryRoach</td>\n",
       "      <td>Hyperdimension Neptunia Re;Birth1</td>\n",
       "    </tr>\n",
       "    <tr>\n",
       "      <th>4</th>\n",
       "      <td>AngryRoach</td>\n",
       "      <td>The Legend of Heroes: Trails of Cold Steel</td>\n",
       "    </tr>\n",
       "    <tr>\n",
       "      <th>...</th>\n",
       "      <td>...</td>\n",
       "      <td>...</td>\n",
       "    </tr>\n",
       "    <tr>\n",
       "      <th>25952</th>\n",
       "      <td>GuntherUltrabol</td>\n",
       "      <td>ASTRONEER</td>\n",
       "    </tr>\n",
       "    <tr>\n",
       "      <th>25953</th>\n",
       "      <td>GuntherUltrabol</td>\n",
       "      <td>Elite: Dangerous</td>\n",
       "    </tr>\n",
       "    <tr>\n",
       "      <th>25954</th>\n",
       "      <td>GuntherUltrabol</td>\n",
       "      <td>Folk Tale</td>\n",
       "    </tr>\n",
       "    <tr>\n",
       "      <th>25955</th>\n",
       "      <td>GuntherUltrabol</td>\n",
       "      <td>To the Moon</td>\n",
       "    </tr>\n",
       "    <tr>\n",
       "      <th>25956</th>\n",
       "      <td>GuntherUltrabol</td>\n",
       "      <td>World of Warships</td>\n",
       "    </tr>\n",
       "  </tbody>\n",
       "</table>\n",
       "<p>25957 rows × 2 columns</p>\n",
       "</div>"
      ],
      "text/plain": [
       "             user_name                                        game\n",
       "0           AngryRoach                 Ultra Kaiju Monster Rancher\n",
       "1           AngryRoach                                   Persona 5\n",
       "2           AngryRoach                              Stardew Valley\n",
       "3           AngryRoach           Hyperdimension Neptunia Re;Birth1\n",
       "4           AngryRoach  The Legend of Heroes: Trails of Cold Steel\n",
       "...                ...                                         ...\n",
       "25952  GuntherUltrabol                                   ASTRONEER\n",
       "25953  GuntherUltrabol                            Elite: Dangerous\n",
       "25954  GuntherUltrabol                                   Folk Tale\n",
       "25955  GuntherUltrabol                                 To the Moon\n",
       "25956  GuntherUltrabol                           World of Warships\n",
       "\n",
       "[25957 rows x 2 columns]"
      ]
     },
     "execution_count": 15,
     "metadata": {},
     "output_type": "execute_result"
    }
   ],
   "source": [
    "combined_df"
   ]
  },
  {
   "cell_type": "code",
   "execution_count": 16,
   "metadata": {},
   "outputs": [],
   "source": [
    "combined_df.to_csv('2015_user_log.csv', index=False)"
   ]
  },
  {
   "cell_type": "code",
   "execution_count": null,
   "metadata": {},
   "outputs": [],
   "source": []
  }
 ],
 "metadata": {
  "kernelspec": {
   "display_name": "base",
   "language": "python",
   "name": "python3"
  },
  "language_info": {
   "codemirror_mode": {
    "name": "ipython",
    "version": 3
   },
   "file_extension": ".py",
   "mimetype": "text/x-python",
   "name": "python",
   "nbconvert_exporter": "python",
   "pygments_lexer": "ipython3",
   "version": "3.8.5"
  },
  "orig_nbformat": 4
 },
 "nbformat": 4,
 "nbformat_minor": 2
}
