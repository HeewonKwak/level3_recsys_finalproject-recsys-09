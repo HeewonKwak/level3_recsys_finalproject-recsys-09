{
 "cells": [
  {
   "cell_type": "code",
   "execution_count": 1,
   "metadata": {},
   "outputs": [],
   "source": [
    "import os\n",
    "from dotenv import load_dotenv\n",
    "\n",
    "load_dotenv()\n",
    "\n",
    "DB_HOST=os.getenv(\"DB_HOST\")\n",
    "DB_PORT=os.getenv(\"DB_PORT\")\n",
    "DB_USERNAME=os.getenv(\"DB_USERNAME\")\n",
    "DB_PASSWORD=os.getenv(\"DB_PASSWORD\")\n",
    "DB_DATABASE=os.getenv(\"DB_DATABASE\")\n",
    "API=os.getenv(\"API\")"
   ]
  },
  {
   "cell_type": "code",
   "execution_count": 4,
   "metadata": {},
   "outputs": [
    {
     "data": {
      "text/plain": [
       "'game'"
      ]
     },
     "execution_count": 4,
     "metadata": {},
     "output_type": "execute_result"
    }
   ],
   "source": [
    "DB_DATABASE"
   ]
  },
  {
   "cell_type": "code",
   "execution_count": 6,
   "metadata": {},
   "outputs": [],
   "source": [
    "import psycopg2\n",
    "from sqlalchemy import create_engine\n",
    "import pandas as pd\n",
    "conn = psycopg2.connect(host = DB_HOST, dbname=DB_DATABASE, user=DB_USERNAME, password=DB_PASSWORD, port=DB_PORT)\n",
    "cur = conn.cursor()\n",
    "\n",
    "\n",
    "cur.execute('''\n",
    "                CREATE TABLE IF NOT EXISTS game (id SERIAL PRIMARY KEY,\n",
    "                                                name VARCHAR,\n",
    "                                                platform VARCHAR,\n",
    "                                                rating VARCHAR,\n",
    "                                                num_of_player_idx int,\n",
    "                                                img_url VARCHAR,\n",
    "                                                major_genre VARCHAR,\n",
    "                                                genre VARCHAR);          \n",
    "            ''')\n",
    "conn.commit()\n",
    "\n",
    "df = pd.read_csv('/opt/ml/lv3/postgre/database_table_csv/game_modify.csv')\n",
    "engine = create_engine(\"postgresql://\" + DB_USERNAME + \":\" + DB_PASSWORD + \"@\" + DB_HOST + \":\" + DB_PORT + \"/\" + DB_DATABASE)\n",
    "df.to_sql(\"game\", engine, if_exists=\"append\", index=False)\n",
    "\n",
    "game_table = \"game\"\n",
    "pdata = pd.read_sql_table(table_name=game_table, con=engine)"
   ]
  },
  {
   "cell_type": "code",
   "execution_count": 5,
   "metadata": {},
   "outputs": [],
   "source": [
    "import psycopg2\n",
    "from sqlalchemy import create_engine\n",
    "import pandas as pd\n",
    "conn = psycopg2.connect(host = DB_HOST, dbname=DB_DATABASE, user=DB_USERNAME, password=DB_PASSWORD, port=DB_PORT)\n",
    "cur = conn.cursor()\n",
    "\n",
    "cur.execute('''\n",
    "                CREATE TABLE IF NOT EXISTS details (id serial references game(id),\n",
    "                                                publisher VARCHAR,\n",
    "                                                release_date VARCHAR,\n",
    "                                                critic_score numeric,\n",
    "                                                critic_count numeric,\n",
    "                                                user_score numeric,\n",
    "                                                user_count numeric,\n",
    "                                                description VARCHAR,\n",
    "                                                url VARCHAR,\n",
    "                                                num_of_player varchar\n",
    "                                                );          \n",
    "            ''')\n",
    "conn.commit()\n",
    "\n",
    "df = pd.read_csv('/opt/ml/lv3/postgre/database_table_csv/details.csv')\n",
    "engine = create_engine(\"postgresql://\" + DB_USERNAME + \":\" + DB_PASSWORD + \"@\" + DB_HOST + \":\" + DB_PORT + \"/\" + DB_DATABASE)\n",
    "df.to_sql(\"details\", engine, if_exists=\"append\", index=False)\n",
    "\n",
    "game_table = \"details\"\n",
    "pdata = pd.read_sql_table(table_name=game_table, con=engine)"
   ]
  },
  {
   "cell_type": "code",
   "execution_count": 7,
   "metadata": {},
   "outputs": [],
   "source": [
    "import psycopg2\n",
    "from sqlalchemy import create_engine\n",
    "import pandas as pd\n",
    "conn = psycopg2.connect(host = DB_HOST, dbname=DB_DATABASE, user=DB_USERNAME, password=DB_PASSWORD, port=DB_PORT)\n",
    "cur = conn.cursor()\n",
    "\n",
    "cur.execute('''\n",
    "                CREATE TABLE IF NOT EXISTS user_table(user_idx int PRIMARY KEY,\n",
    "                                                user_name VARCHAR);          \n",
    "            ''')\n",
    "conn.commit()\n",
    "\n",
    "df = pd.read_csv('/opt/ml/lv3/postgre/database_table_csv/user.csv')\n",
    "engine = create_engine(\"postgresql://\" + DB_USERNAME + \":\" + DB_PASSWORD + \"@\" + DB_HOST + \":\" + DB_PORT + \"/\" + DB_DATABASE)\n",
    "df.to_sql(\"user_table\", engine, if_exists=\"append\", index=False)\n",
    "\n",
    "game_table = \"user_table\"\n",
    "pdata = pd.read_sql_table(table_name=game_table, con=engine)"
   ]
  },
  {
   "cell_type": "code",
   "execution_count": 8,
   "metadata": {},
   "outputs": [],
   "source": [
    "import psycopg2\n",
    "from sqlalchemy import create_engine\n",
    "import pandas as pd\n",
    "conn = psycopg2.connect(host = DB_HOST, dbname=DB_DATABASE, user=DB_USERNAME, password=DB_PASSWORD, port=DB_PORT)\n",
    "cur = conn.cursor()\n",
    "\n",
    "cur.execute('''\n",
    "                CREATE TABLE IF NOT EXISTS cf_model (\n",
    "                                                user_idx int references user_table(user_idx),\n",
    "                                                id int references game(id)\n",
    "                                                );      \n",
    "            ''')\n",
    "conn.commit()\n",
    "\n",
    "df = pd.read_csv('/opt/ml/lv3/postgre/database_table_csv/cf_model.csv')\n",
    "engine = create_engine(\"postgresql://\" + DB_USERNAME + \":\" + DB_PASSWORD + \"@\" + DB_HOST + \":\" + DB_PORT + \"/\" + DB_DATABASE)\n",
    "df.to_sql(\"cf_model\", engine, if_exists=\"append\", index=False)\n",
    "\n",
    "game_table = \"cf_model\"\n",
    "pdata = pd.read_sql_table(table_name=game_table, con=engine)"
   ]
  },
  {
   "cell_type": "code",
   "execution_count": 8,
   "metadata": {},
   "outputs": [],
   "source": [
    "import psycopg2\n",
    "from sqlalchemy import create_engine\n",
    "import pandas as pd\n",
    "conn = psycopg2.connect(host = DB_HOST, dbname=DB_DATABASE, user=DB_USERNAME, password=DB_PASSWORD, port=DB_PORT)\n",
    "cur = conn.cursor()\n",
    "\n",
    "cur.execute('''\n",
    "                CREATE TABLE IF NOT EXISTS cb_model (\n",
    "                                                id serial references game(id),\n",
    "                                                genre VARCHAR,\n",
    "                                                graphics int,\n",
    "                                                sound int,\n",
    "                                                creativity int,\n",
    "                                                freedom int,\n",
    "                                                hitting int,\n",
    "                                                completion int,\n",
    "                                                difficulty int\n",
    "                                                );\n",
    "            ''')\n",
    "conn.commit()\n",
    "\n",
    "df = pd.read_csv('/opt/ml/lv3/postgre/database_table_csv/cb_model_modify_2.csv')\n",
    "engine = create_engine(\"postgresql://\" + DB_USERNAME + \":\" + DB_PASSWORD + \"@\" + DB_HOST + \":\" + DB_PORT + \"/\" + DB_DATABASE)\n",
    "df.to_sql(\"cb_model\", engine, if_exists=\"append\", index=False)\n",
    "\n",
    "game_table = \"cb_model\"\n",
    "pdata = pd.read_sql_table(table_name=game_table, con=engine)\n"
   ]
  },
  {
   "cell_type": "code",
   "execution_count": null,
   "metadata": {},
   "outputs": [],
   "source": [
    "# import psycopg2\n",
    "# from sqlalchemy import create_engine\n",
    "# import pandas as pd\n",
    "# conn = psycopg2.connect(host = DB_HOST, dbname=DB_DATABASE, user=DB_USERNAME, password=DB_PASSWORD, port=DB_PORT)\n",
    "# cur = conn.cursor()\n",
    "\n",
    "# cur.execute(\"DROP TABLE cf_model\")\n",
    "# conn.commit()\n",
    "\n",
    "# cur.execute(\"DROP TABLE user_table\")\n",
    "# conn.commit()\n",
    "\n",
    "# cur.execute(\"DROP TABLE details\")\n",
    "# conn.commit()\n",
    "\n",
    "# cur.execute(\"DROP TABLE cb_model\")\n",
    "# conn.commit()\n",
    "\n",
    "# cur.execute(\"DROP TABLE game\")\n",
    "# conn.commit()"
   ]
  }
 ],
 "metadata": {
  "kernelspec": {
   "display_name": "movie",
   "language": "python",
   "name": "python3"
  },
  "language_info": {
   "codemirror_mode": {
    "name": "ipython",
    "version": 3
   },
   "file_extension": ".py",
   "mimetype": "text/x-python",
   "name": "python",
   "nbconvert_exporter": "python",
   "pygments_lexer": "ipython3",
   "version": "3.8.16"
  },
  "orig_nbformat": 4
 },
 "nbformat": 4,
 "nbformat_minor": 2
}
