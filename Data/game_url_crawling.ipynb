{
 "cells": [
  {
   "cell_type": "code",
   "execution_count": 11,
   "metadata": {},
   "outputs": [
    {
     "name": "stdout",
     "output_type": "stream",
     "text": [
      "WARNING: Problem getting miscellaneous game information\n",
      "WARNING: Problem getting miscellaneous game information\n",
      "WARNING: Problem getting miscellaneous game information\n",
      "WARNING: Problem getting miscellaneous game information\n",
      "WARNING: Problem getting miscellaneous game information\n"
     ]
    }
   ],
   "source": [
    "from bs4 import BeautifulSoup\n",
    "import requests\n",
    "import pandas as pd\n",
    "from MetaCriticScraper import MetaCriticScraper\n",
    "\n",
    "\n",
    "years = [i for i in range(2000, 2023)]\n",
    "\n",
    "for y in years:\n",
    "    year = str(y)\n",
    "\n",
    "    hrd = {'User-Agent' : 'Mozilla/5.0', 'referer' : 'https://www.metacritic.com/browse/games/score/metascore/year/all/filtered?year_selected=' + year + '&distribution=&sort=desc&view=detailed'}\n",
    "    url = \"https://www.metacritic.com/browse/games/score/metascore/year/all/filtered?year_selected=\" + year + \"&distribution=&sort=desc&view=detailed\"\n",
    "\n",
    "    req = requests.get(url, headers=hrd)\n",
    "\n",
    "    soup = BeautifulSoup(req.content, \"html.parser\", from_encoding='utf-8')\n",
    "    questions = soup.find(\"div\", {\"class\":\"title_bump\"})\n",
    "\n",
    "    d = list(questions.find_all(\"a\", class_=\"page_num\"))\n",
    "    url_num_list = [int(item.string.strip()) for item in d]\n",
    "\n",
    "    num_list = []\n",
    "    for i in range(url_num_list[len(url_num_list)-1]):\n",
    "        num_list.append(str(i))\n",
    "\n",
    "\n",
    "    df_url = pd.DataFrame(columns=['game', 'url'])\n",
    "\n",
    "    for j in range(len(num_list)):\n",
    "        hrd = {'User-Agent' : 'Mozilla/5.0', 'referer' : \"https://www.metacritic.com/browse/games/score/metascore/year/all/filtered?year_selected=\" + year + \"&distribution=&sort=desc&view=detailed\" + \"&page=\" + num_list[j] }\n",
    "        url = \"https://www.metacritic.com/browse/games/score/metascore/year/all/filtered?year_selected=\" + year + \"&distribution=&sort=desc&view=detailed\" + \"&page=\" + num_list[j]\n",
    "\n",
    "        req = requests.get(url, headers=hrd)\n",
    "\n",
    "        soup = BeautifulSoup(req.content, \"html.parser\", from_encoding='utf-8')\n",
    "        # 게임 목록을 가져오기 위해 필요한 태그와 클래스를 확인합니다.\n",
    "        game_items = soup.find_all(\"td\", class_=\"clamp-summary-wrap\")\n",
    "\n",
    "        # 각 게임별 URL을 추출합니다.       \n",
    "        for item in game_items:\n",
    "            link = item.find(\"a\", class_=\"title\")\n",
    "            game_name_url = 'https://www.metacritic.com' + link['href']\n",
    "            game_name = MetaCriticScraper(game_name_url).game['title']\n",
    "\n",
    "            url_tmp = pd.DataFrame(columns=['game', 'url'])\n",
    "            url_tmp.loc[0] = [game_name, game_name_url]\n",
    "            df_url = pd.concat([df_url, url_tmp])\n",
    "\n",
    "    # csv로 저장\n",
    "    df_url.to_csv('./data/url/' + year + '_url.csv', index=False)"
   ]
  }
 ],
 "metadata": {
  "kernelspec": {
   "display_name": "base",
   "language": "python",
   "name": "python3"
  },
  "language_info": {
   "codemirror_mode": {
    "name": "ipython",
    "version": 3
   },
   "file_extension": ".py",
   "mimetype": "text/x-python",
   "name": "python",
   "nbconvert_exporter": "python",
   "pygments_lexer": "ipython3",
   "version": "3.8.5"
  },
  "orig_nbformat": 4
 },
 "nbformat": 4,
 "nbformat_minor": 2
}
