{
 "cells": [
  {
   "cell_type": "code",
   "execution_count": 2,
   "metadata": {},
   "outputs": [],
   "source": [
    "import glob\n",
    "from google.cloud import bigquery\n",
    "from google.oauth2 import service_account\n",
    "\n",
    "# 서비스 계정 키 JSON 파일 경로\n",
    "key_path = glob.glob(\"./config/*.json\")[0]\n",
    "\n",
    "# Credentials 객체 생성\n",
    "credentials = service_account.Credentials.from_service_account_file(key_path)"
   ]
  },
  {
   "cell_type": "code",
   "execution_count": 3,
   "metadata": {},
   "outputs": [],
   "source": [
    "# GCP 클라이언트 객체 생성\n",
    "client = bigquery.Client(credentials = credentials, \n",
    "                         project = credentials.project_id)"
   ]
  },
  {
   "cell_type": "code",
   "execution_count": 10,
   "metadata": {},
   "outputs": [],
   "source": [
    "# #job_config\n",
    "# job_config = bigquery.LoadJobConfig(\n",
    "#     write_disposition = bigquery.WriteDisposition.WRITE_TRUNCATE,\n",
    "#     source_format = bigquery.SourceFormat.CSV,\n",
    "#     skip_leading_rows=1,\n",
    "#     autodetect=True\n",
    "# )"
   ]
  },
  {
   "cell_type": "code",
   "execution_count": 11,
   "metadata": {},
   "outputs": [
    {
     "data": {
      "text/plain": [
       "LoadJob<project=midyear-diorama-391902, location=asia-northeast3, id=d447ffa8-751c-4055-9838-a9e03c8596ea>"
      ]
     },
     "execution_count": 11,
     "metadata": {},
     "output_type": "execute_result"
    }
   ],
   "source": [
    "# job_config.allow_quoted_newlines = True\n",
    "# # 소스 등록하기\n",
    "# file_path = \"./game_plus_total.csv\"\n",
    "# with open(file_path, 'rb') as source_file:\n",
    "#     job = client.load_table_from_file(source_file, 'midyear-diorama-391902.test_game_total.game', job_config=job_config)\n",
    "\n",
    "# job.result()\n",
    "        "
   ]
  },
  {
   "cell_type": "code",
   "execution_count": null,
   "metadata": {},
   "outputs": [],
   "source": [
    "# table = client.get_table('midyear-diorama-391902.test_game_total.game_total_sample')\n",
    "# table.table_id"
   ]
  },
  {
   "cell_type": "code",
   "execution_count": null,
   "metadata": {},
   "outputs": [],
   "source": [
    "# table = client.get_table(\"midyear-diorama-391902.test_game_total.game_total_sample\")"
   ]
  },
  {
   "cell_type": "code",
   "execution_count": null,
   "metadata": {},
   "outputs": [],
   "source": [
    "# table"
   ]
  },
  {
   "cell_type": "code",
   "execution_count": 12,
   "metadata": {},
   "outputs": [],
   "source": [
    "# 데이터 조회 쿼리\n",
    "sql = f\"\"\"\n",
    "SELECT\n",
    "  *\n",
    "FROM\n",
    "  test_game_total.game\n",
    "\"\"\"\n",
    "\n",
    "# 데이터 조회 쿼리 실행 결과\n",
    "query_job = client.query(sql)\n",
    "\n",
    "# 데이터프레임 변환\n",
    "df = query_job.to_dataframe()"
   ]
  },
  {
   "cell_type": "code",
   "execution_count": 15,
   "metadata": {},
   "outputs": [
    {
     "data": {
      "text/html": [
       "<div>\n",
       "<style scoped>\n",
       "    .dataframe tbody tr th:only-of-type {\n",
       "        vertical-align: middle;\n",
       "    }\n",
       "\n",
       "    .dataframe tbody tr th {\n",
       "        vertical-align: top;\n",
       "    }\n",
       "\n",
       "    .dataframe thead th {\n",
       "        text-align: right;\n",
       "    }\n",
       "</style>\n",
       "<table border=\"1\" class=\"dataframe\">\n",
       "  <thead>\n",
       "    <tr style=\"text-align: right;\">\n",
       "      <th></th>\n",
       "      <th>id</th>\n",
       "      <th>name</th>\n",
       "      <th>platform</th>\n",
       "      <th>rating</th>\n",
       "      <th>num_of_player_idx</th>\n",
       "      <th>img_url</th>\n",
       "      <th>major_genre</th>\n",
       "    </tr>\n",
       "  </thead>\n",
       "  <tbody>\n",
       "    <tr>\n",
       "      <th>4326</th>\n",
       "      <td>15953</td>\n",
       "      <td>FIFA ONLINE 4</td>\n",
       "      <td>PC</td>\n",
       "      <td>13+</td>\n",
       "      <td>5</td>\n",
       "      <td>https://i.namu.wiki/i/U4KTytKPkxXv3v6IMCIfZU5w...</td>\n",
       "      <td>Sports</td>\n",
       "    </tr>\n",
       "  </tbody>\n",
       "</table>\n",
       "</div>"
      ],
      "text/plain": [
       "         id           name platform rating  num_of_player_idx  \\\n",
       "4326  15953  FIFA ONLINE 4       PC    13+                  5   \n",
       "\n",
       "                                                img_url major_genre  \n",
       "4326  https://i.namu.wiki/i/U4KTytKPkxXv3v6IMCIfZU5w...      Sports  "
      ]
     },
     "execution_count": 15,
     "metadata": {},
     "output_type": "execute_result"
    }
   ],
   "source": [
    "df[df['id']==15953]"
   ]
  }
 ],
 "metadata": {
  "kernelspec": {
   "display_name": "movie",
   "language": "python",
   "name": "python3"
  },
  "language_info": {
   "codemirror_mode": {
    "name": "ipython",
    "version": 3
   },
   "file_extension": ".py",
   "mimetype": "text/x-python",
   "name": "python",
   "nbconvert_exporter": "python",
   "pygments_lexer": "ipython3",
   "version": "3.8.16"
  },
  "orig_nbformat": 4
 },
 "nbformat": 4,
 "nbformat_minor": 2
}
