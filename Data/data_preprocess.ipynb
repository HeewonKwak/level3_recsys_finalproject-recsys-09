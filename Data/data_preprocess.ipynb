{
 "cells": [
  {
   "cell_type": "code",
   "execution_count": 15,
   "metadata": {},
   "outputs": [],
   "source": [
    "import pandas as pd\n",
    "import glob\n",
    "import numpy as np"
   ]
  },
  {
   "cell_type": "code",
   "execution_count": 16,
   "metadata": {},
   "outputs": [],
   "source": [
    "csv_files = glob.glob('data/*.csv')\n",
    "df = pd.concat([pd.read_csv(file) for file in csv_files])"
   ]
  },
  {
   "cell_type": "code",
   "execution_count": 19,
   "metadata": {},
   "outputs": [],
   "source": [
    "df = df.dropna(subset=['name'])\n",
    "df = df.dropna(subset=['description'])\n",
    "df = df.dropna(subset=['publisher'])"
   ]
  },
  {
   "cell_type": "code",
   "execution_count": 27,
   "metadata": {},
   "outputs": [],
   "source": [
    "df_test = df.groupby('name').agg({\n",
    "    'platform': lambda x: ', '.join(x[x.notnull()]),\n",
    "    'publisher': lambda x: next(iter(x[x.notnull()]), np.nan),\n",
    "    'rating': lambda x: next(iter(x[x.notnull()]), np.nan),\n",
    "    'genre': lambda x: next(iter(x[x.notnull()]), np.nan),\n",
    "    '#_of_player': lambda x: next(iter(x[x.notnull()]), np.nan),\n",
    "    'release_date': lambda x: next(iter(x[x.notnull()]), np.nan),\n",
    "    'critic_score': lambda x: next(iter(x[x.notnull()]), np.nan),\n",
    "    'critic_count': lambda x: next(iter(x[x.notnull()]), np.nan),\n",
    "    'user_score': lambda x: next(iter(x[x.notnull()]), np.nan),\n",
    "    'user_count': lambda x: next(iter(x[x.notnull()]), np.nan),\n",
    "    'img_url': lambda x: next(iter(x[x.notnull()]), np.nan),\n",
    "    'description': lambda x: next(iter(x[x.notnull()]), np.nan)\n",
    "}).reset_index()"
   ]
  },
  {
   "cell_type": "code",
   "execution_count": 30,
   "metadata": {},
   "outputs": [],
   "source": [
    "df_test['#_of_player'] = df_test['#_of_player'].fillna(\"At Least 1\")\n",
    "df_test['user_score'] = df_test['user_score'].replace('tbd', '0')\n",
    "df_test['critic_score'] = df_test['critic_score'].replace('tbd', '0')\n",
    "df_test['critic_count'] = df_test['critic_count'].fillna(0)\n",
    "df_test['critic_score'] = df_test['critic_score'].fillna(0)\n",
    "df_test['user_count'] = df_test['user_count'].fillna(0)\n",
    "df_test['user_score'] = df_test['user_score'].fillna(0)\n",
    "df_test['rating'] = df_test['rating'].fillna(\"M\")\n",
    "df_test = df_test.rename(columns={'#_of_player':'_of_player'})"
   ]
  },
  {
   "cell_type": "code",
   "execution_count": 44,
   "metadata": {},
   "outputs": [],
   "source": [
    "rating_dict = {'EC': 'all', 'E': 'all', 'E10+': '10+', 'T': '13+', 'M':'17+', 'AO': '20+', 'RP': 'None'}\n",
    "\n",
    "for i,j in rating_dict.items():\n",
    "    df_test['rating'] = np.where(df_test['rating'] == i, j, df_test['rating'])"
   ]
  },
  {
   "cell_type": "code",
   "execution_count": null,
   "metadata": {},
   "outputs": [],
   "source": [
    "filename = 'preprocess_raw.csv'  # 파일 이름 생성\n",
    "df_test.to_csv('./after_preprocess/' + filename, index=False)  "
   ]
  },
  {
   "cell_type": "code",
   "execution_count": null,
   "metadata": {},
   "outputs": [],
   "source": [
    "# import numpy as np\n",
    "\n",
    "# rating_dict = {'EC': 'all', 'E': 'all', 'E10+': '10+', 'T': '13+', 'M':'17+', 'AO': '20+', 'RP': 'None'}\n",
    "\n",
    "# #df['rating'] = df['rating'].map(rating_dict).fillna('other')\n",
    "\n",
    "# for i,j in rating_dict.items():\n",
    "#     df['rating'] = np.where(df['rating'] == i, j, df['rating'])\n",
    "#"
   ]
  }
 ],
 "metadata": {
  "kernelspec": {
   "display_name": "movie",
   "language": "python",
   "name": "python3"
  },
  "language_info": {
   "codemirror_mode": {
    "name": "ipython",
    "version": 3
   },
   "file_extension": ".py",
   "mimetype": "text/x-python",
   "name": "python",
   "nbconvert_exporter": "python",
   "pygments_lexer": "ipython3",
   "version": "3.8.16"
  },
  "orig_nbformat": 4
 },
 "nbformat": 4,
 "nbformat_minor": 2
}
